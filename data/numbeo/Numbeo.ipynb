{
 "cells": [
  {
   "cell_type": "code",
   "execution_count": 1,
   "metadata": {},
   "outputs": [],
   "source": [
    "import numpy as np\n",
    "import pandas as pd\n",
    "import geocoder\n",
    "from requests import Session"
   ]
  },
  {
   "cell_type": "code",
   "execution_count": 2,
   "metadata": {},
   "outputs": [],
   "source": [
    "# Load the cleaned CSV from the cell above\n",
    "# Only run the subsequent cells if you want to gather fresh data\n",
    "numbeo_beer = pd.read_table('numbeo_beer.txt', names=[\"rank\", \"city\", \"beer\"], index_col=\"rank\")\n",
    "numbeo_bread = pd.read_table('numbeo_bread.txt', names=[\"rank\", \"city\", \"bread\"], index_col=\"rank\")\n",
    "numbeo_coffee = pd.read_table(\"numbeo_coffee.txt\", names=['rank', 'city', 'coffee'], index_col=\"rank\")\n",
    "numbeo = pd.merge(numbeo_beer, numbeo_bread, how=\"outer\", on=\"city\")\n",
    "numbeo = pd.merge(numbeo, numbeo_coffee, how=\"outer\", on=\"city\")\n",
    "\n",
    "city_data = pd.read_csv('../city-data/world-cities-data.csv')\n",
    "city_data['region'] = city_data['region'].str.title()"
   ]
  },
  {
   "cell_type": "code",
   "execution_count": 3,
   "metadata": {},
   "outputs": [],
   "source": [
    "# create a separate country column\n",
    "split = numbeo['city'].str.split(\", \")\n",
    "numbeo['country'] = split.str[-1]\n",
    "numbeo['city'] = split.str[0]"
   ]
  },
  {
   "cell_type": "code",
   "execution_count": 50,
   "metadata": {},
   "outputs": [
    {
     "data": {
      "text/html": [
       "<div>\n",
       "<style scoped>\n",
       "    .dataframe tbody tr th:only-of-type {\n",
       "        vertical-align: middle;\n",
       "    }\n",
       "\n",
       "    .dataframe tbody tr th {\n",
       "        vertical-align: top;\n",
       "    }\n",
       "\n",
       "    .dataframe thead th {\n",
       "        text-align: right;\n",
       "    }\n",
       "</style>\n",
       "<table border=\"1\" class=\"dataframe\">\n",
       "  <thead>\n",
       "    <tr style=\"text-align: right;\">\n",
       "      <th></th>\n",
       "      <th>city_ascii</th>\n",
       "      <th>region</th>\n",
       "      <th>latitude</th>\n",
       "      <th>longitude</th>\n",
       "      <th>population</th>\n",
       "      <th>iso2</th>\n",
       "      <th>iso3</th>\n",
       "      <th>admin_name</th>\n",
       "      <th>city</th>\n",
       "    </tr>\n",
       "    <tr>\n",
       "      <th>country</th>\n",
       "      <th></th>\n",
       "      <th></th>\n",
       "      <th></th>\n",
       "      <th></th>\n",
       "      <th></th>\n",
       "      <th></th>\n",
       "      <th></th>\n",
       "      <th></th>\n",
       "      <th></th>\n",
       "    </tr>\n",
       "  </thead>\n",
       "  <tbody>\n",
       "    <tr>\n",
       "      <th>Bahamas, The</th>\n",
       "      <td>3</td>\n",
       "      <td>3</td>\n",
       "      <td>3</td>\n",
       "      <td>3</td>\n",
       "      <td>3</td>\n",
       "      <td>3</td>\n",
       "      <td>3</td>\n",
       "      <td>2</td>\n",
       "      <td>3</td>\n",
       "    </tr>\n",
       "    <tr>\n",
       "      <th>Gambia, The</th>\n",
       "      <td>9</td>\n",
       "      <td>9</td>\n",
       "      <td>9</td>\n",
       "      <td>9</td>\n",
       "      <td>8</td>\n",
       "      <td>9</td>\n",
       "      <td>9</td>\n",
       "      <td>9</td>\n",
       "      <td>9</td>\n",
       "    </tr>\n",
       "    <tr>\n",
       "      <th>Korea, North</th>\n",
       "      <td>37</td>\n",
       "      <td>37</td>\n",
       "      <td>37</td>\n",
       "      <td>37</td>\n",
       "      <td>36</td>\n",
       "      <td>37</td>\n",
       "      <td>37</td>\n",
       "      <td>37</td>\n",
       "      <td>37</td>\n",
       "    </tr>\n",
       "    <tr>\n",
       "      <th>Korea, South</th>\n",
       "      <td>84</td>\n",
       "      <td>84</td>\n",
       "      <td>84</td>\n",
       "      <td>84</td>\n",
       "      <td>80</td>\n",
       "      <td>84</td>\n",
       "      <td>84</td>\n",
       "      <td>84</td>\n",
       "      <td>84</td>\n",
       "    </tr>\n",
       "    <tr>\n",
       "      <th>Micronesia, Federated States Of</th>\n",
       "      <td>5</td>\n",
       "      <td>5</td>\n",
       "      <td>5</td>\n",
       "      <td>5</td>\n",
       "      <td>1</td>\n",
       "      <td>5</td>\n",
       "      <td>5</td>\n",
       "      <td>5</td>\n",
       "      <td>5</td>\n",
       "    </tr>\n",
       "    <tr>\n",
       "      <th>Saint Helena, Ascension, And Tristan Da Cunha</th>\n",
       "      <td>2</td>\n",
       "      <td>0</td>\n",
       "      <td>2</td>\n",
       "      <td>2</td>\n",
       "      <td>0</td>\n",
       "      <td>2</td>\n",
       "      <td>2</td>\n",
       "      <td>2</td>\n",
       "      <td>2</td>\n",
       "    </tr>\n",
       "  </tbody>\n",
       "</table>\n",
       "</div>"
      ],
      "text/plain": [
       "                                               city_ascii  region  latitude  \\\n",
       "country                                                                       \n",
       "Bahamas, The                                            3       3         3   \n",
       "Gambia, The                                             9       9         9   \n",
       "Korea, North                                           37      37        37   \n",
       "Korea, South                                           84      84        84   \n",
       "Micronesia, Federated States Of                         5       5         5   \n",
       "Saint Helena, Ascension, And Tristan Da Cunha           2       0         2   \n",
       "\n",
       "                                               longitude  population  iso2  \\\n",
       "country                                                                      \n",
       "Bahamas, The                                           3           3     3   \n",
       "Gambia, The                                            9           8     9   \n",
       "Korea, North                                          37          36    37   \n",
       "Korea, South                                          84          80    84   \n",
       "Micronesia, Federated States Of                        5           1     5   \n",
       "Saint Helena, Ascension, And Tristan Da Cunha          2           0     2   \n",
       "\n",
       "                                               iso3  admin_name  city  \n",
       "country                                                                \n",
       "Bahamas, The                                      3           2     3  \n",
       "Gambia, The                                       9           9     9  \n",
       "Korea, North                                     37          37    37  \n",
       "Korea, South                                     84          84    84  \n",
       "Micronesia, Federated States Of                   5           5     5  \n",
       "Saint Helena, Ascension, And Tristan Da Cunha     2           2     2  "
      ]
     },
     "execution_count": 50,
     "metadata": {},
     "output_type": "execute_result"
    }
   ],
   "source": [
    "# a quick look at wrong country names\n",
    "city_data[city_data.country.str.contains(',')].groupby(by=\"country\").count()"
   ]
  },
  {
   "cell_type": "code",
   "execution_count": 4,
   "metadata": {},
   "outputs": [],
   "source": [
    "# to align with city_data column names\n",
    "numbeo = numbeo.rename(columns={\"city\": \"city_ascii\"})\n",
    "\n",
    "# some data cleaning\n",
    "numbeo.loc[numbeo.city_ascii.str.contains(\"Jeddah\"), \"city_ascii\"] = \"Jeddah\"\n",
    "numbeo.loc[numbeo.city_ascii.str.contains(\"Calicut\"), \"city_ascii\"] = \"Calicut\"\n",
    "numbeo.city_ascii = numbeo.city_ascii.str.replace(\"Saint\", \"St.\")\n",
    "\n",
    "city_data.loc[city_data.country.str.contains(\"Bahamas\"), \"country\"] = \"Bahamas\"\n",
    "city_data.loc[city_data.country.str.contains(\"Korea, South\"), \"country\"] = \"South Korea\""
   ]
  },
  {
   "cell_type": "code",
   "execution_count": 5,
   "metadata": {},
   "outputs": [],
   "source": [
    "# for US cities, generate a list of unabbreviated state names\n",
    "def state_unabbr(state):\n",
    "    abbr = pd.read_table(\"us-state-abbr.tsv\", names=['abbr', 'name'], header=0)\n",
    "    name = abbr.loc[abbr['abbr'] == state, 'name']\n",
    "    if len(name) > 0:\n",
    "        return name.values[0]\n",
    "    else:\n",
    "        return np.nan\n",
    "\n",
    "states = []\n",
    "for i in split:\n",
    "    if i[-1] == \"United States\":\n",
    "        states.append(state_unabbr(i[1]))"
   ]
  },
  {
   "cell_type": "code",
   "execution_count": 6,
   "metadata": {},
   "outputs": [
    {
     "name": "stderr",
     "output_type": "stream",
     "text": [
      "/Users/christalee/Library/Python/3.6/lib/python/site-packages/ipykernel_launcher.py:4: SettingWithCopyWarning: \n",
      "A value is trying to be set on a copy of a slice from a DataFrame.\n",
      "Try using .loc[row_indexer,col_indexer] = value instead\n",
      "\n",
      "See the caveats in the documentation: https://pandas.pydata.org/pandas-docs/stable/user_guide/indexing.html#returning-a-view-versus-a-copy\n",
      "  after removing the cwd from sys.path.\n"
     ]
    }
   ],
   "source": [
    "# separate numbeo into US and non-US cities\n",
    "# for US cities, add states under admin_name, then merge with city_data latitude, longitude, region, and population\n",
    "numbeo_us = numbeo[numbeo['country'] == 'United States']\n",
    "numbeo_us[\"admin_name\"] = states\n",
    "us_cols = [\"city_ascii\", 'country','region', 'latitude', 'longitude', 'population', 'admin_name']\n",
    "numbeo_us = pd.merge(numbeo_us, city_data[us_cols], how='left', on=['city_ascii', 'country', 'admin_name'])"
   ]
  },
  {
   "cell_type": "code",
   "execution_count": 7,
   "metadata": {},
   "outputs": [],
   "source": [
    "# for non-US cities, don't match on admin_name\n",
    "numbeo_globe = numbeo[numbeo['country'] != \"United States\"]\n",
    "globe_cols = [\"city_ascii\", 'country','region', 'latitude', 'longitude', 'population', \"admin_name\"]\n",
    "numbeo_globe = pd.merge(numbeo_globe, city_data[globe_cols], how='left', on=['city_ascii', 'country'])"
   ]
  },
  {
   "cell_type": "code",
   "execution_count": 8,
   "metadata": {},
   "outputs": [
    {
     "data": {
      "text/plain": [
       "False"
      ]
     },
     "execution_count": 8,
     "metadata": {},
     "output_type": "execute_result"
    }
   ],
   "source": [
    "# I don't know why they aren't the same length after they're reunited\n",
    "# probably some duplicated values in numbeo_globe due to ambiguities in city, country\n",
    "numbeo_admin = pd.concat([numbeo_us, numbeo_globe])\n",
    "\n",
    "# reorder columns\n",
    "admin_cols = ['city_ascii', 'admin_name', 'country', 'region', 'bread', 'beer', 'coffee', 'latitude', 'longitude', 'population']\n",
    "numbeo_admin = numbeo_admin.reindex(columns=admin_cols)\n",
    "\n",
    "len(numbeo) == len(numbeo_admin)"
   ]
  },
  {
   "cell_type": "code",
   "execution_count": 10,
   "metadata": {},
   "outputs": [
    {
     "data": {
      "text/plain": [
       "56"
      ]
     },
     "execution_count": 10,
     "metadata": {},
     "output_type": "execute_result"
    }
   ],
   "source": [
    "lost = numbeo_admin[np.isnan(numbeo_admin['latitude'])]\n",
    "len(lost)"
   ]
  },
  {
   "cell_type": "code",
   "execution_count": 11,
   "metadata": {},
   "outputs": [],
   "source": [
    "def update_row(wrong_city, right_data):\n",
    "    right_data[\"city\"] = wrong_city\n",
    "    \n",
    "    y = lost[lost['city_ascii'] == wrong_city]\n",
    "    y = y.drop(columns=['admin_name', 'region', 'latitude', 'longitude', 'population'])\n",
    "    \n",
    "    merge_cols = ['city_ascii', 'admin_name', 'region', 'latitude', 'longitude', 'population', 'city']\n",
    "    z = pd.merge(y, right_data[merge_cols], how='left', left_on=['city_ascii'], right_on=['city'])\n",
    "    z = z.drop(columns=['city_ascii_x', 'city'])\n",
    "    z = z.rename(columns={'city_ascii_y': 'city_ascii'})\n",
    "    z = z.reindex(columns=admin_cols)\n",
    "    \n",
    "    return z"
   ]
  },
  {
   "cell_type": "code",
   "execution_count": 12,
   "metadata": {},
   "outputs": [
    {
     "name": "stderr",
     "output_type": "stream",
     "text": [
      "/Users/christalee/Library/Python/3.6/lib/python/site-packages/ipykernel_launcher.py:2: SettingWithCopyWarning: \n",
      "A value is trying to be set on a copy of a slice from a DataFrame.\n",
      "Try using .loc[row_indexer,col_indexer] = value instead\n",
      "\n",
      "See the caveats in the documentation: https://pandas.pydata.org/pandas-docs/stable/user_guide/indexing.html#returning-a-view-versus-a-copy\n",
      "  \n"
     ]
    }
   ],
   "source": [
    "found = pd.DataFrame()\n",
    "for i in range(len(lost)):\n",
    "#     print(lost.iloc[i])\n",
    "    row = lost.iloc[i]\n",
    "    city = row['city_ascii']\n",
    "    x = city_data[city_data.city.str.contains(city.strip(\"()\")[-4:]) & (city_data['country'] == row[2])]\n",
    "    y = city_data[city_data.city.str.contains(city.strip(\"()\")[:4]) & (city_data['country'] == row[2])]\n",
    "    if len(x) == 1:\n",
    "        found = pd.concat([found, update_row(city, x)])\n",
    "    elif len(y) == 1:\n",
    "        found = pd.concat([found, update_row(city, y)])"
   ]
  },
  {
   "cell_type": "code",
   "execution_count": 14,
   "metadata": {},
   "outputs": [
    {
     "data": {
      "text/plain": [
       "20"
      ]
     },
     "execution_count": 14,
     "metadata": {},
     "output_type": "execute_result"
    }
   ],
   "source": [
    "len(found)"
   ]
  },
  {
   "cell_type": "code",
   "execution_count": 17,
   "metadata": {},
   "outputs": [],
   "source": [
    "numbeo_admin = pd.concat([numbeo_admin, found])\n",
    "numbeo_clean = numbeo_admin.dropna()"
   ]
  },
  {
   "cell_type": "code",
   "execution_count": 19,
   "metadata": {},
   "outputs": [],
   "source": [
    "numbeo.to_csv(\"numbeo.csv\")\n",
    "numbeo_admin.to_csv(\"numbeo_admin.csv\")\n",
    "numbeo_clean.to_csv(\"numbeo_clean.csv\")"
   ]
  },
  {
   "cell_type": "code",
   "execution_count": 18,
   "metadata": {},
   "outputs": [
    {
     "data": {
      "text/html": [
       "<div>\n",
       "<style scoped>\n",
       "    .dataframe tbody tr th:only-of-type {\n",
       "        vertical-align: middle;\n",
       "    }\n",
       "\n",
       "    .dataframe tbody tr th {\n",
       "        vertical-align: top;\n",
       "    }\n",
       "\n",
       "    .dataframe thead th {\n",
       "        text-align: right;\n",
       "    }\n",
       "</style>\n",
       "<table border=\"1\" class=\"dataframe\">\n",
       "  <thead>\n",
       "    <tr style=\"text-align: right;\">\n",
       "      <th></th>\n",
       "      <th>city_ascii</th>\n",
       "      <th>admin_name</th>\n",
       "      <th>country</th>\n",
       "      <th>region</th>\n",
       "      <th>bread</th>\n",
       "      <th>beer</th>\n",
       "      <th>coffee</th>\n",
       "      <th>latitude</th>\n",
       "      <th>longitude</th>\n",
       "      <th>population</th>\n",
       "    </tr>\n",
       "  </thead>\n",
       "  <tbody>\n",
       "    <tr>\n",
       "      <th>0</th>\n",
       "      <td>Richmond</td>\n",
       "      <td>Virginia</td>\n",
       "      <td>United States</td>\n",
       "      <td>North America</td>\n",
       "      <td>2.63</td>\n",
       "      <td>3.71</td>\n",
       "      <td>4.54</td>\n",
       "      <td>37.5295</td>\n",
       "      <td>-77.4756</td>\n",
       "      <td>1075798.0</td>\n",
       "    </tr>\n",
       "    <tr>\n",
       "      <th>1</th>\n",
       "      <td>Fort Collins</td>\n",
       "      <td>Colorado</td>\n",
       "      <td>United States</td>\n",
       "      <td>North America</td>\n",
       "      <td>2.93</td>\n",
       "      <td>3.47</td>\n",
       "      <td>4.29</td>\n",
       "      <td>40.5478</td>\n",
       "      <td>-105.0656</td>\n",
       "      <td>312666.0</td>\n",
       "    </tr>\n",
       "    <tr>\n",
       "      <th>2</th>\n",
       "      <td>Boston</td>\n",
       "      <td>Massachusetts</td>\n",
       "      <td>United States</td>\n",
       "      <td>North America</td>\n",
       "      <td>3.16</td>\n",
       "      <td>3.37</td>\n",
       "      <td>4.31</td>\n",
       "      <td>42.3188</td>\n",
       "      <td>-71.0846</td>\n",
       "      <td>4688346.0</td>\n",
       "    </tr>\n",
       "    <tr>\n",
       "      <th>3</th>\n",
       "      <td>New York</td>\n",
       "      <td>New York</td>\n",
       "      <td>United States</td>\n",
       "      <td>North America</td>\n",
       "      <td>3.78</td>\n",
       "      <td>3.29</td>\n",
       "      <td>4.82</td>\n",
       "      <td>40.6943</td>\n",
       "      <td>-73.9249</td>\n",
       "      <td>18713220.0</td>\n",
       "    </tr>\n",
       "    <tr>\n",
       "      <th>4</th>\n",
       "      <td>Philadelphia</td>\n",
       "      <td>Pennsylvania</td>\n",
       "      <td>United States</td>\n",
       "      <td>North America</td>\n",
       "      <td>2.83</td>\n",
       "      <td>3.26</td>\n",
       "      <td>3.92</td>\n",
       "      <td>40.0077</td>\n",
       "      <td>-75.1339</td>\n",
       "      <td>5649300.0</td>\n",
       "    </tr>\n",
       "    <tr>\n",
       "      <th>...</th>\n",
       "      <td>...</td>\n",
       "      <td>...</td>\n",
       "      <td>...</td>\n",
       "      <td>...</td>\n",
       "      <td>...</td>\n",
       "      <td>...</td>\n",
       "      <td>...</td>\n",
       "      <td>...</td>\n",
       "      <td>...</td>\n",
       "      <td>...</td>\n",
       "    </tr>\n",
       "    <tr>\n",
       "      <th>0</th>\n",
       "      <td>Lorca</td>\n",
       "      <td>Murcia</td>\n",
       "      <td>Spain</td>\n",
       "      <td>Europe</td>\n",
       "      <td>1.46</td>\n",
       "      <td>0.90</td>\n",
       "      <td>2.52</td>\n",
       "      <td>37.6833</td>\n",
       "      <td>-1.7000</td>\n",
       "      <td>94404.0</td>\n",
       "    </tr>\n",
       "    <tr>\n",
       "      <th>0</th>\n",
       "      <td>Sevilla</td>\n",
       "      <td>Andalusia</td>\n",
       "      <td>Spain</td>\n",
       "      <td>Europe</td>\n",
       "      <td>1.27</td>\n",
       "      <td>0.79</td>\n",
       "      <td>1.74</td>\n",
       "      <td>37.3828</td>\n",
       "      <td>-5.9731</td>\n",
       "      <td>1212045.0</td>\n",
       "    </tr>\n",
       "    <tr>\n",
       "      <th>0</th>\n",
       "      <td>Odesa</td>\n",
       "      <td>Odes’ka Oblast’</td>\n",
       "      <td>Ukraine</td>\n",
       "      <td>Europe</td>\n",
       "      <td>0.54</td>\n",
       "      <td>0.73</td>\n",
       "      <td>1.20</td>\n",
       "      <td>46.4775</td>\n",
       "      <td>30.7326</td>\n",
       "      <td>1010783.0</td>\n",
       "    </tr>\n",
       "    <tr>\n",
       "      <th>0</th>\n",
       "      <td>Kyiv</td>\n",
       "      <td>Kyyiv, Misto</td>\n",
       "      <td>Ukraine</td>\n",
       "      <td>Europe</td>\n",
       "      <td>0.59</td>\n",
       "      <td>0.72</td>\n",
       "      <td>1.21</td>\n",
       "      <td>50.4500</td>\n",
       "      <td>30.5236</td>\n",
       "      <td>2967000.0</td>\n",
       "    </tr>\n",
       "    <tr>\n",
       "      <th>0</th>\n",
       "      <td>Zaporizhzhia</td>\n",
       "      <td>Zaporiz’ka Oblast’</td>\n",
       "      <td>Ukraine</td>\n",
       "      <td>Europe</td>\n",
       "      <td>0.49</td>\n",
       "      <td>0.67</td>\n",
       "      <td>1.02</td>\n",
       "      <td>47.8378</td>\n",
       "      <td>35.1383</td>\n",
       "      <td>741717.0</td>\n",
       "    </tr>\n",
       "  </tbody>\n",
       "</table>\n",
       "<p>492 rows × 10 columns</p>\n",
       "</div>"
      ],
      "text/plain": [
       "      city_ascii          admin_name        country          region  bread  \\\n",
       "0       Richmond            Virginia  United States  North America    2.63   \n",
       "1   Fort Collins            Colorado  United States  North America    2.93   \n",
       "2         Boston       Massachusetts  United States  North America    3.16   \n",
       "3       New York            New York  United States  North America    3.78   \n",
       "4   Philadelphia        Pennsylvania  United States  North America    2.83   \n",
       "..           ...                 ...            ...             ...    ...   \n",
       "0          Lorca              Murcia          Spain         Europe    1.46   \n",
       "0        Sevilla           Andalusia          Spain         Europe    1.27   \n",
       "0          Odesa     Odes’ka Oblast’        Ukraine         Europe    0.54   \n",
       "0           Kyiv        Kyyiv, Misto        Ukraine         Europe    0.59   \n",
       "0   Zaporizhzhia  Zaporiz’ka Oblast’        Ukraine         Europe    0.49   \n",
       "\n",
       "    beer  coffee  latitude  longitude  population  \n",
       "0   3.71    4.54   37.5295   -77.4756   1075798.0  \n",
       "1   3.47    4.29   40.5478  -105.0656    312666.0  \n",
       "2   3.37    4.31   42.3188   -71.0846   4688346.0  \n",
       "3   3.29    4.82   40.6943   -73.9249  18713220.0  \n",
       "4   3.26    3.92   40.0077   -75.1339   5649300.0  \n",
       "..   ...     ...       ...        ...         ...  \n",
       "0   0.90    2.52   37.6833    -1.7000     94404.0  \n",
       "0   0.79    1.74   37.3828    -5.9731   1212045.0  \n",
       "0   0.73    1.20   46.4775    30.7326   1010783.0  \n",
       "0   0.72    1.21   50.4500    30.5236   2967000.0  \n",
       "0   0.67    1.02   47.8378    35.1383    741717.0  \n",
       "\n",
       "[492 rows x 10 columns]"
      ]
     },
     "execution_count": 18,
     "metadata": {},
     "output_type": "execute_result"
    }
   ],
   "source": [
    "numbeo_clean"
   ]
  },
  {
   "cell_type": "code",
   "execution_count": null,
   "metadata": {},
   "outputs": [],
   "source": []
  },
  {
   "cell_type": "code",
   "execution_count": null,
   "metadata": {},
   "outputs": [],
   "source": []
  },
  {
   "cell_type": "code",
   "execution_count": null,
   "metadata": {},
   "outputs": [],
   "source": []
  },
  {
   "cell_type": "code",
   "execution_count": null,
   "metadata": {},
   "outputs": [],
   "source": []
  },
  {
   "cell_type": "code",
   "execution_count": null,
   "metadata": {},
   "outputs": [],
   "source": [
    "import qwikidata.sparql\n",
    "\n",
    "def get_city_wikidata(city, country):\n",
    "    query = \"\"\"\n",
    "    SELECT ?city ?cityLabel ?country ?countryLabel ?population\n",
    "    WHERE\n",
    "    {\n",
    "      ?city rdfs:label '%s'@en.\n",
    "      ?city wdt:P1082 ?population.\n",
    "      ?city wdt:P17 ?country.\n",
    "      ?city rdfs:label ?cityLabel.\n",
    "      ?country rdfs:label ?countryLabel.\n",
    "      FILTER(LANG(?cityLabel) = \"en\").\n",
    "      FILTER(LANG(?countryLabel) = \"en\").\n",
    "      FILTER(CONTAINS(?countryLabel, \"%s\")).\n",
    "    }\n",
    "    \"\"\" % (city, country)\n",
    "\n",
    "    res = qwikidata.sparql.return_sparql_query_results(query)\n",
    "    out = res['results']['bindings'][0]\n",
    "    return out"
   ]
  },
  {
   "cell_type": "code",
   "execution_count": null,
   "metadata": {},
   "outputs": [],
   "source": [
    "# This cell takes >10min to run D:\n",
    "import time\n",
    "\n",
    "numbeo['population2'] = np.zeros(len(numbeo), dtype=int)\n",
    "for city, country in zip(numbeo[\"city_ascii\"], numbeo['country']):\n",
    "    try:\n",
    "        data = get_city_wikidata(city, country)\n",
    "        numbeo.loc[(numbeo['city_ascii'] == city) & (numbeo['country'] == country), \"population2\"] = int(data['population']['value'])\n",
    "    except:\n",
    "        numbeo.loc[(numbeo['city_ascii'] == city) & (numbeo['country'] == country), \"population2\"] = np.nan\n",
    "    time.sleep(1)"
   ]
  },
  {
   "cell_type": "code",
   "execution_count": null,
   "metadata": {},
   "outputs": [],
   "source": [
    "# This cell also takes a while\n",
    "numbeo[\"latitude2\"] = np.zeros(len(numbeo))\n",
    "numbeo['longitude2'] = np.zeros(len(numbeo))\n",
    "with Session() as s:\n",
    "    for city, country in zip(numbeo[\"city_ascii\"], numbeo['country']):\n",
    "        latlng = geocoder.osm(city + \", \" + country, session=s).latlng\n",
    "        if latlng:\n",
    "            numbeo.loc[(numbeo['city_ascii'] == city) & (numbeo['country'] == country), 'latitude2'] = latlng[0]\n",
    "            numbeo.loc[(numbeo['city_ascii'] == city) & (numbeo['country'] == country), 'longitude2'] = latlng[1]\n",
    "        time.sleep(1)"
   ]
  },
  {
   "cell_type": "code",
   "execution_count": null,
   "metadata": {},
   "outputs": [],
   "source": [
    "# For some reason, one city consistently returns None during the for loop\n",
    "# while None in locations:\n",
    "#     i = locations.index(None)\n",
    "#     locations[i] = geocoder.osm(numbeo[\"city\"][i]).latlng"
   ]
  }
 ],
 "metadata": {
  "kernelspec": {
   "display_name": "Python 3",
   "language": "python",
   "name": "python3"
  },
  "language_info": {
   "codemirror_mode": {
    "name": "ipython",
    "version": 3
   },
   "file_extension": ".py",
   "mimetype": "text/x-python",
   "name": "python",
   "nbconvert_exporter": "python",
   "pygments_lexer": "ipython3",
   "version": "3.6.12"
  }
 },
 "nbformat": 4,
 "nbformat_minor": 4
}
