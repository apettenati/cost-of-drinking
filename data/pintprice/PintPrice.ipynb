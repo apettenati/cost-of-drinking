{
 "cells": [
  {
   "cell_type": "code",
   "execution_count": 18,
   "metadata": {},
   "outputs": [],
   "source": [
    "import pandas as pd\n",
    "import numpy as np\n",
    "from bs4 import BeautifulSoup\n",
    "from urllib import request, parse\n",
    "import time"
   ]
  },
  {
   "cell_type": "code",
   "execution_count": 19,
   "metadata": {},
   "outputs": [],
   "source": [
    "# Takes a country name, returns the table of cities and prices from that country's page on pintprice.com\n",
    "def get_prices(country):\n",
    "    safe = parse.quote(country)\n",
    "    url = 'http://www.pintprice.com/region.php?/{}/USD.htm'.format(safe)\n",
    "    html = request.urlopen(url)\n",
    "    if html.status == 200:\n",
    "        soup = BeautifulSoup(html.read(), 'html.parser')\n",
    "        table = []\n",
    "        tds = [td.get_text().strip() for td in soup.find_all(\"td\")]\n",
    "        for x in range(0, len(tds), 2):\n",
    "            table.append([tds[x], tds[x+1]])\n",
    "        return table\n",
    "    else:\n",
    "        return \"Not Found\""
   ]
  },
  {
   "cell_type": "code",
   "execution_count": 20,
   "metadata": {},
   "outputs": [],
   "source": [
    "# Parse one page to get the list of all countries from the drop-down\n",
    "uk = parse.quote(\"United Kingdom\")\n",
    "url = 'http://www.pintprice.com/region.php?/{}/USD.htm'.format(uk)\n",
    "html = request.urlopen(url)\n",
    "soup = BeautifulSoup(html.read(), 'html.parser')\n",
    "countries = [c.get_text() for c in soup.find_all(\"option\")][:-5]"
   ]
  },
  {
   "cell_type": "code",
   "execution_count": 21,
   "metadata": {},
   "outputs": [],
   "source": [
    "# There's an extra <td> on the UK page, so let's skip it\n",
    "pint_price = {}\n",
    "uk_table = []\n",
    "uk_tds = [td.get_text().strip() for td in soup.find_all(\"td\")][1:]\n",
    "for x in range(0, len(uk_tds), 2):\n",
    "    uk_table.append([uk_tds[x], uk_tds[x+1]])\n",
    "pint_price[\"United Kingdom\"] = uk_table"
   ]
  },
  {
   "cell_type": "code",
   "execution_count": 22,
   "metadata": {},
   "outputs": [],
   "source": [
    "for c in countries:\n",
    "    if c != \"United Kingdom\":\n",
    "        pint_price[c] = get_prices(c)\n",
    "        time.sleep(0.1)"
   ]
  },
  {
   "cell_type": "code",
   "execution_count": 31,
   "metadata": {},
   "outputs": [],
   "source": [
    "# Move Cost/Price to the column headings\n",
    "pint_price_df = pd.DataFrame(pint_price['United Kingdom'])\n",
    "pint_price_df.columns = pint_price_df.iloc[0]\n",
    "pint_price_df = pint_price_df.drop(pint_price_df.index[0])\n",
    "\n",
    "# set the Country column and clean up the Price column\n",
    "pint_price_df[\"Country\"] = \"United Kingdom\"\n",
    "pint_price_df['Price'] = pint_price_df['Price'].str.strip('$ USD').astype(float)"
   ]
  },
  {
   "cell_type": "code",
   "execution_count": 32,
   "metadata": {},
   "outputs": [],
   "source": [
    "# Do it again for each country and concat onto pint_price_df\n",
    "for country in pint_price:\n",
    "    if country != \"United Kingdom\":\n",
    "        pp = pd.DataFrame(pint_price[country])\n",
    "        pp.columns = pp.iloc[0]\n",
    "        pp = pp.drop(pp.index[0])\n",
    "        \n",
    "        pp['Country'] = country\n",
    "        pp['Price'] = pp['Price'].str.strip(\"$ USD\").astype(float, errors=\"ignore\")\n",
    "        \n",
    "        pint_price_df = pd.concat([pint_price_df, pp])"
   ]
  },
  {
   "cell_type": "code",
   "execution_count": 33,
   "metadata": {},
   "outputs": [],
   "source": [
    "pint_price_df.columns = ['city_ascii', 'beer_pub', 'country']\n",
    "pint_price_df = pint_price_df.reindex(columns=['city_ascii', 'country', 'beer_pub'])"
   ]
  },
  {
   "cell_type": "code",
   "execution_count": 34,
   "metadata": {},
   "outputs": [],
   "source": [
    "pint_price_df.to_csv(\"pintprice.csv\")"
   ]
  },
  {
   "cell_type": "code",
   "execution_count": 35,
   "metadata": {},
   "outputs": [
    {
     "data": {
      "text/html": [
       "<div>\n",
       "<style scoped>\n",
       "    .dataframe tbody tr th:only-of-type {\n",
       "        vertical-align: middle;\n",
       "    }\n",
       "\n",
       "    .dataframe tbody tr th {\n",
       "        vertical-align: top;\n",
       "    }\n",
       "\n",
       "    .dataframe thead th {\n",
       "        text-align: right;\n",
       "    }\n",
       "</style>\n",
       "<table border=\"1\" class=\"dataframe\">\n",
       "  <thead>\n",
       "    <tr style=\"text-align: right;\">\n",
       "      <th></th>\n",
       "      <th>city_ascii</th>\n",
       "      <th>country</th>\n",
       "      <th>beer_pub</th>\n",
       "    </tr>\n",
       "  </thead>\n",
       "  <tbody>\n",
       "    <tr>\n",
       "      <th>1</th>\n",
       "      <td></td>\n",
       "      <td>United Kingdom</td>\n",
       "      <td>4.17</td>\n",
       "    </tr>\n",
       "    <tr>\n",
       "      <th>2</th>\n",
       "      <td>Aberdeen</td>\n",
       "      <td>United Kingdom</td>\n",
       "      <td>5.07</td>\n",
       "    </tr>\n",
       "    <tr>\n",
       "      <th>3</th>\n",
       "      <td>Aberystwyth</td>\n",
       "      <td>United Kingdom</td>\n",
       "      <td>3.58</td>\n",
       "    </tr>\n",
       "    <tr>\n",
       "      <th>4</th>\n",
       "      <td>Acton</td>\n",
       "      <td>United Kingdom</td>\n",
       "      <td>6.26</td>\n",
       "    </tr>\n",
       "    <tr>\n",
       "      <th>5</th>\n",
       "      <td>Airdrie</td>\n",
       "      <td>United Kingdom</td>\n",
       "      <td>3.43</td>\n",
       "    </tr>\n",
       "    <tr>\n",
       "      <th>...</th>\n",
       "      <td>...</td>\n",
       "      <td>...</td>\n",
       "      <td>...</td>\n",
       "    </tr>\n",
       "    <tr>\n",
       "      <th>2</th>\n",
       "      <td>Lusaka</td>\n",
       "      <td>Zambia</td>\n",
       "      <td>1.5</td>\n",
       "    </tr>\n",
       "    <tr>\n",
       "      <th>3</th>\n",
       "      <td>Petauke</td>\n",
       "      <td>Zambia</td>\n",
       "      <td>0.91</td>\n",
       "    </tr>\n",
       "    <tr>\n",
       "      <th>4</th>\n",
       "      <td>Solwezi</td>\n",
       "      <td>Zambia</td>\n",
       "      <td>1.4</td>\n",
       "    </tr>\n",
       "    <tr>\n",
       "      <th>1</th>\n",
       "      <td>Bulawayo</td>\n",
       "      <td>Zimbabwe</td>\n",
       "      <td>1.13</td>\n",
       "    </tr>\n",
       "    <tr>\n",
       "      <th>2</th>\n",
       "      <td>Harare</td>\n",
       "      <td>Zimbabwe</td>\n",
       "      <td>1.49</td>\n",
       "    </tr>\n",
       "  </tbody>\n",
       "</table>\n",
       "<p>2872 rows × 3 columns</p>\n",
       "</div>"
      ],
      "text/plain": [
       "     city_ascii         country beer_pub\n",
       "1                United Kingdom     4.17\n",
       "2      Aberdeen  United Kingdom     5.07\n",
       "3   Aberystwyth  United Kingdom     3.58\n",
       "4         Acton  United Kingdom     6.26\n",
       "5       Airdrie  United Kingdom     3.43\n",
       "..          ...             ...      ...\n",
       "2        Lusaka          Zambia      1.5\n",
       "3       Petauke          Zambia     0.91\n",
       "4       Solwezi          Zambia      1.4\n",
       "1      Bulawayo        Zimbabwe     1.13\n",
       "2        Harare        Zimbabwe     1.49\n",
       "\n",
       "[2872 rows x 3 columns]"
      ]
     },
     "execution_count": 35,
     "metadata": {},
     "output_type": "execute_result"
    }
   ],
   "source": [
    "pint_price_df"
   ]
  },
  {
   "cell_type": "code",
   "execution_count": null,
   "metadata": {},
   "outputs": [],
   "source": []
  }
 ],
 "metadata": {
  "kernelspec": {
   "display_name": "Python 3",
   "language": "python",
   "name": "python3"
  },
  "language_info": {
   "codemirror_mode": {
    "name": "ipython",
    "version": 3
   },
   "file_extension": ".py",
   "mimetype": "text/x-python",
   "name": "python",
   "nbconvert_exporter": "python",
   "pygments_lexer": "ipython3",
   "version": "3.6.12"
  }
 },
 "nbformat": 4,
 "nbformat_minor": 4
}
